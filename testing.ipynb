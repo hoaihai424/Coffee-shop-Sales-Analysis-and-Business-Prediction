{
 "cells": [
  {
   "cell_type": "code",
   "execution_count": 6,
   "metadata": {},
   "outputs": [],
   "source": [
    "import pandas as pd\n",
    "from faker import Faker\n",
    "import random\n",
    "from extract import *\n",
    "\n",
    "fake = Faker()\n",
    "\n",
    "import os, requests, json\n",
    "from dotenv import load_dotenv\n",
    "\n",
    "load_dotenv()\n",
    "GOOGLE_CALENDAR_API_KEY = os.getenv(\"GOOGLE_CALENDAR_API_KEY\")"
   ]
  },
  {
   "cell_type": "code",
   "execution_count": 7,
   "metadata": {},
   "outputs": [],
   "source": [
    "product_df = gen_product()\n",
    "gift_df = gen_gift()\n",
    "date_df = gen_date()"
   ]
  },
  {
   "cell_type": "code",
   "execution_count": 8,
   "metadata": {},
   "outputs": [],
   "source": [
    "department_df = gen_department(3)\n",
    "employee_df = gen_employee(3)\n",
    "customer_df = gen_customer(1000)"
   ]
  },
  {
   "cell_type": "code",
   "execution_count": 9,
   "metadata": {},
   "outputs": [
    {
     "name": "stderr",
     "output_type": "stream",
     "text": [
      "d:\\HCMUT_Year3\\DW&DSS\\Project\\Coffee-shop-Sales-Analysis-and-Business-Prediction\\extract.py:235: FutureWarning: Setting an item of incompatible dtype is deprecated and will raise in a future error of pandas. Value '4.75' has dtype incompatible with int64, please explicitly cast to a compatible dtype first.\n",
      "  product_df.loc[x-1, 'rating'] = round(sum(y) / len(y), 2)\n",
      "d:\\HCMUT_Year3\\DW&DSS\\Project\\Coffee-shop-Sales-Analysis-and-Business-Prediction\\extract.py:69: FutureWarning: Setting an item of incompatible dtype is deprecated and will raise in a future error of pandas. Value '23.82' has dtype incompatible with int64, please explicitly cast to a compatible dtype first.\n",
      "  order_df.loc[i, 'total_price'] = total_price\n"
     ]
    }
   ],
   "source": [
    "review_df = gen_review(100, len(customer_df), product_df, date_df)\n",
    "order_df = gen_order_data(100000, len(customer_df), date_df, employee_df)\n",
    "order_item_df = gen_order_item(order_df, product_df, customer_df)\n",
    "gift_exchange_df = gen_gift_exchange(100, customer_df, date_df, gift_df)"
   ]
  },
  {
   "cell_type": "code",
   "execution_count": 10,
   "metadata": {},
   "outputs": [],
   "source": [
    "product_df.to_csv(\"sample_result_dataset/product.csv\", index=False)\n",
    "gift_df.to_csv(\"sample_result_dataset/gift.csv\", index=False)\n",
    "date_df.to_csv(\"sample_result_dataset/date.csv\", index=False)\n",
    "department_df.to_csv(\"sample_result_dataset/department.csv\", index=False)\n",
    "employee_df.to_csv(\"sample_result_dataset/employee.csv\", index=False)\n",
    "customer_df.to_csv(\"sample_result_dataset/customer.csv\", index=False)\n",
    "review_df.to_csv(\"sample_result_dataset/review.csv\", index=False)\n",
    "order_df.to_csv(\"sample_result_dataset/order.csv\", index=False)\n",
    "order_item_df.to_csv(\"sample_result_dataset/order_item.csv\", index=False)\n",
    "gift_exchange_df.to_csv(\"sample_result_dataset/gift_exchange.csv\", index=False)"
   ]
  }
 ],
 "metadata": {
  "kernelspec": {
   "display_name": "base",
   "language": "python",
   "name": "python3"
  },
  "language_info": {
   "codemirror_mode": {
    "name": "ipython",
    "version": 3
   },
   "file_extension": ".py",
   "mimetype": "text/x-python",
   "name": "python",
   "nbconvert_exporter": "python",
   "pygments_lexer": "ipython3",
   "version": "3.11.5"
  }
 },
 "nbformat": 4,
 "nbformat_minor": 2
}
